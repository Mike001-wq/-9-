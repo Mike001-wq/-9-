{
 "cells": [
  {
   "cell_type": "code",
   "execution_count": 38,
   "id": "12f56920",
   "metadata": {},
   "outputs": [
    {
     "name": "stdout",
     "output_type": "stream",
     "text": [
      "env: BEARER_TOKEN=OUO\n",
      "env: DEEPL_AUTH_KEY=OUO\n",
      "env: MICROSOFTTRANSLATOR_KEY=OUO\n"
     ]
    }
   ],
   "source": [
    "%env BEARER_TOKEN=OUO\n",
    "%env DEEPL_AUTH_KEY=OUO\n",
    "%env MICROSOFTTRANSLATOR_KEY=OUO"
   ]
  },
  {
   "cell_type": "code",
   "execution_count": 49,
   "id": "8de86dbc",
   "metadata": {},
   "outputs": [],
   "source": [
    "import os\n",
    "import requests\n",
    "import json\n",
    "import time\n",
    "bearer_token = os.environ.get(\"BEARER_TOKEN\")\n",
    "deepl_auth_key = os.environ.get(\"DEEPL_AUTH_KEY\")\n",
    "microsofttranslator_key = os.environ.get(\"MICROSOFTTRANSLATOR_KEY\")"
   ]
  },
  {
   "cell_type": "code",
   "execution_count": 12,
   "id": "d7bd78da",
   "metadata": {},
   "outputs": [],
   "source": [
    "usernames = [\n",
    "    \"\", # 0\n",
    "    \"\", # 1\n",
    "    \"kishida230\", # 岸田文雄\n",
    "    \"matsunohirokazu\", # 松野博一\n",
    "    \"nekotanchan\", # 金子恭之\n",
    "    \"hayashi09615064\", # 林芳正\n",
    "    \"_suzukitakako_\", # 铃木贵子\n",
    "    \"SSS_suematsu\", # 末松信介\n",
    "    \"goto_shigeyuki\", # 后藤茂之\n",
    "    \"\", # 金子原二郎\n",
    "    \"saitotetsuo\", # 齐藤铁夫\n",
    "    \"KishiNobuo\", # 岸信夫\n",
    "    \"\", # 山东昭子\n",
    "    \"hosodahiroyuki\", # 细田博之\n",
    "    \"\", # 铃木俊一\n",
    "    \"yamagiwa001\", # 山际大志郎\n",
    "    \"\", # 萩生田光一\n",
    "    \"244yamaguchi\", # 山口壮\n",
    "    \"ninoyu_satoshi\", # 二之汤智\n",
    "    \"NishimeKosaburo\", # 西铭恒三郎\n",
    "    \"makishimakaren\", # 牧岛花莲\n",
    "    \"noda_seiko93\", # 野田圣子\n",
    "    \"wakamiya7788\", # 若宫健嗣\n",
    "    \"kobahawk\" # 小林鹰之\n",
    "]"
   ]
  },
  {
   "cell_type": "code",
   "execution_count": 13,
   "id": "e575bc69",
   "metadata": {},
   "outputs": [],
   "source": [
    "def bearer_oauth(r):\n",
    "    r.headers[\"Authorization\"] = f\"Bearer {bearer_token}\"\n",
    "    return r\n",
    "def retrieve_user_with_username(username):\n",
    "    response = requests.get(url=f'https://api.twitter.com/2/users/by/username/{username}', auth=bearer_oauth)\n",
    "    result = json.loads(response.text)\n",
    "    return result['data']['id']\n",
    "# id = retrieve_user_with_username('kishida230')"
   ]
  },
  {
   "cell_type": "code",
   "execution_count": 15,
   "id": "bfc0b06c",
   "metadata": {},
   "outputs": [],
   "source": [
    "def get_tweets(id):\n",
    "    tweets = []\n",
    "    params = {\n",
    "        \"exclude\": \"retweets\",\n",
    "        \"max_results\": 100,\n",
    "        \"tweet.fields\": \"created_at\"\n",
    "    }\n",
    "    response = requests.get(url=f'https://api.twitter.com/2/users/{id}/tweets', params=params, auth=bearer_oauth)\n",
    "    result = json.loads(response.text)\n",
    "    tweets += result['data']\n",
    "    while 'next_token' in result['meta']:\n",
    "        next_token = result['meta']['next_token']\n",
    "        params = {\n",
    "            \"exclude\": \"retweets\",\n",
    "            \"max_results\": 100,\n",
    "            \"tweet.fields\": \"created_at\",\n",
    "            \"pagination_token\": next_token\n",
    "        }\n",
    "        response = requests.get(url=f'https://api.twitter.com/2/users/{id}/tweets', params=params, auth=bearer_oauth)\n",
    "        result = json.loads(response.text)\n",
    "        tweets += result['data']\n",
    "    return tweets\n",
    "# tweets = get_tweets('1247032696586436609')"
   ]
  },
  {
   "cell_type": "code",
   "execution_count": 17,
   "id": "2f45258e",
   "metadata": {},
   "outputs": [],
   "source": [
    "def deepl_oauth(r):\n",
    "    r.headers[\"Authorization\"] = f\"DeepL-Auth-Key {deepl_auth_key}\"\n",
    "    return r\n",
    "def translator(text):\n",
    "    # response = requests.get(url='https://api.deepl.com/v2/usage', auth=deepl_oauth)\n",
    "    # print(response.text)\n",
    "    data = {\n",
    "        \"text\": text,\n",
    "        \"target_lang\": \"ZH\"\n",
    "    }\n",
    "    response = requests.get(url='https://api.deepl.com/v2/translate', auth=deepl_oauth, data=data)\n",
    "    result = json.loads(response.text)\n",
    "    return result['translations'][0]['text']\n",
    "# translator('test')\n",
    "def translator_usage():\n",
    "    response = requests.get(url='https://api.deepl.com/v2/usage', auth=deepl_oauth)\n",
    "    print(response.text)"
   ]
  },
  {
   "cell_type": "code",
   "execution_count": 47,
   "id": "7607d54c",
   "metadata": {},
   "outputs": [],
   "source": [
    "import requests, uuid, json\n",
    "\n",
    "def microsoft_translator(text_list):\n",
    "    endpoint = \"https://api.cognitive.microsofttranslator.com\"\n",
    "    location = \"eastasia\"\n",
    "    path = '/translate'\n",
    "    constructed_url = endpoint + path\n",
    "    params = {\n",
    "        'api-version': '3.0',\n",
    "        'to': 'zh-Hans'\n",
    "    }\n",
    "    headers = {\n",
    "        'Ocp-Apim-Subscription-Key': microsofttranslator_key,\n",
    "        'Ocp-Apim-Subscription-Region': location,\n",
    "        'Content-type': 'application/json',\n",
    "        'X-ClientTraceId': str(uuid.uuid4())\n",
    "    }\n",
    "    body = []\n",
    "    for text in text_list:\n",
    "        body.append({\n",
    "            'text': text\n",
    "        })\n",
    "    response = requests.post(constructed_url, params=params, headers=headers, json=body)\n",
    "    result = json.loads(response.text)\n",
    "    # print(result)\n",
    "    translated_text_list = []\n",
    "    for item in result:\n",
    "        translated_text_list.append(item['translations'][0]['text'])\n",
    "    return translated_text_list\n",
    "# print(microsoft_translator(['test1', 'test2']))"
   ]
  },
  {
   "cell_type": "code",
   "execution_count": 42,
   "id": "93ce16b3",
   "metadata": {
    "scrolled": false
   },
   "outputs": [
    {
     "name": "stdout",
     "output_type": "stream",
     "text": [
      "kishida230\n",
      "matsunohirokazu\n",
      "nekotanchan\n",
      "hayashi09615064\n",
      "_suzukitakako_\n",
      "SSS_suematsu\n",
      "goto_shigeyuki\n",
      "saitotetsuo\n",
      "KishiNobuo\n",
      "hosodahiroyuki\n",
      "yamagiwa001\n",
      "244yamaguchi\n",
      "ninoyu_satoshi\n",
      "NishimeKosaburo\n",
      "makishimakaren\n",
      "noda_seiko93\n",
      "wakamiya7788\n",
      "kobahawk\n"
     ]
    }
   ],
   "source": [
    "import pickle\n",
    "for username in usernames:\n",
    "    if username == \"\":\n",
    "        continue\n",
    "    print(username)\n",
    "    id = retrieve_user_with_username(username)\n",
    "    tweets = get_tweets(id)\n",
    "    # print(tweets)\n",
    "    tweets_pk_path = f\"{username}.pk\"\n",
    "    tweets_pk = open(tweets_pk_path, 'wb')\n",
    "    pickle.dump(tweets, tweets_pk)\n",
    "    tweets_pk.close()"
   ]
  },
  {
   "cell_type": "code",
   "execution_count": 56,
   "id": "4bea5d29",
   "metadata": {},
   "outputs": [
    {
     "name": "stdout",
     "output_type": "stream",
     "text": [
      "kishida230\n",
      "980\n",
      "1\n",
      "2\n",
      "3\n",
      "4\n",
      "5\n",
      "6\n",
      "7\n",
      "8\n",
      "9\n",
      "10\n"
     ]
    }
   ],
   "source": [
    "for username in usernames:\n",
    "    if username != \"kishida230\":\n",
    "        continue\n",
    "    print(username)\n",
    "    tweets_pk_path = f\"{username}.pk\"\n",
    "    tweets_pk = open(tweets_pk_path, 'rb')\n",
    "    tweets = pickle.load(tweets_pk)\n",
    "    tweets_pk.close()\n",
    "    print(len(tweets))\n",
    "    num_tweets = len(tweets)\n",
    "    text_cnt = 0\n",
    "    text_list = []\n",
    "    translate_cnt = 0\n",
    "    for i in range(0, num_tweets):\n",
    "        text = tweets[i]['text']\n",
    "        text_list.append(text)\n",
    "        text_cnt += 1\n",
    "        if text_cnt == 100:\n",
    "            translated_text_list = microsoft_translator(text_list)\n",
    "            translate_cnt += 1\n",
    "            print(translate_cnt)\n",
    "            for j in range(0, text_cnt):\n",
    "                tweets[i + 1 - (text_cnt - j)]['chinese_content'] = translated_text_list[j]\n",
    "            text_cnt = 0\n",
    "            text_list = []\n",
    "    if text_cnt != 0:\n",
    "        translated_text_list = microsoft_translator(text_list)\n",
    "        translate_cnt += 1\n",
    "        print(translate_cnt)\n",
    "        for j in range(0, text_cnt):\n",
    "            tweets[num_tweets - (text_cnt - j)]['chinese_content'] = translated_text_list[j]\n",
    "            # print(num_tweets - (text_cnt - j), j)\n",
    "    tweets_pk_path = f\"{username}_with_translation.pk\"\n",
    "    tweets_pk = open(tweets_pk_path, 'wb')\n",
    "    pickle.dump(tweets, tweets_pk)\n",
    "    tweets_pk.close()\n",
    "    time.sleep(translate_cnt)"
   ]
  }
 ],
 "metadata": {
  "kernelspec": {
   "display_name": "Python 3",
   "language": "python",
   "name": "python3"
  },
  "language_info": {
   "codemirror_mode": {
    "name": "ipython",
    "version": 3
   },
   "file_extension": ".py",
   "mimetype": "text/x-python",
   "name": "python",
   "nbconvert_exporter": "python",
   "pygments_lexer": "ipython3",
   "version": "3.7.0"
  }
 },
 "nbformat": 4,
 "nbformat_minor": 5
}
