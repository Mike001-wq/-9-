{
 "cells": [
  {
   "cell_type": "code",
   "execution_count": 25,
   "id": "b8673835",
   "metadata": {},
   "outputs": [],
   "source": [
    "# Usage:\n",
    "# For example:\n",
    "import pickle\n",
    "dataset = ['kishida_speech', 'yasushi_speech', 'hayashi_speech']\n",
    "dataset_pk_path = f\"{dataset[2]}.pk\"\n",
    "dataset_pk = open(dataset_pk_path, 'rb')\n",
    "speech = pickle.load(dataset_pk)\n",
    "dataset_pk.close()\n",
    "# print(speech)"
   ]
  },
  {
   "cell_type": "code",
   "execution_count": 26,
   "id": "e1233ddd",
   "metadata": {},
   "outputs": [
    {
     "data": {
      "text/plain": [
       "'\\n数据示例:\\n[{\"source\": \"https://www.kantei.go.jp/...\",\\n\"title\": \"关于...记者会\",\\n\"chinese_content\": \"中文\",\\n\"japanese_content\": \"日本语\"}]\\n数据:\\nkishida_speech https://www.kantei.go.jp/cn/101_kishida/statement 47 无日文 中文（官方参考）\\nyasushi_speech https://www.soumu.go.jp/menu_news/kaiken 64 日文 中文（机器翻译）\\nhayashi_speech https://www.mofa.go.jp/mofaj/press/kaiken/gaisho 82 日文 中文（机器翻译）\\n'"
      ]
     },
     "execution_count": 26,
     "metadata": {},
     "output_type": "execute_result"
    }
   ],
   "source": [
    "\"\"\"\n",
    "数据示例:\n",
    "[{\"source\": \"https://www.kantei.go.jp/...\",\n",
    "\"title\": \"关于...记者会\",\n",
    "\"chinese_content\": \"中文\",\n",
    "\"japanese_content\": \"日本语\"}]\n",
    "数据:\n",
    "kishida_speech https://www.kantei.go.jp/cn/101_kishida/statement 47 无日文 中文（官方参考）\n",
    "yasushi_speech https://www.soumu.go.jp/menu_news/kaiken 64 日文 中文（机器翻译）\n",
    "hayashi_speech https://www.mofa.go.jp/mofaj/press/kaiken/gaisho 82 日文 中文（机器翻译）\n",
    "\"\"\""
   ]
  }
 ],
 "metadata": {
  "kernelspec": {
   "display_name": "Python 3",
   "language": "python",
   "name": "python3"
  },
  "language_info": {
   "codemirror_mode": {
    "name": "ipython",
    "version": 3
   },
   "file_extension": ".py",
   "mimetype": "text/x-python",
   "name": "python",
   "nbconvert_exporter": "python",
   "pygments_lexer": "ipython3",
   "version": "3.7.0"
  }
 },
 "nbformat": 4,
 "nbformat_minor": 5
}
