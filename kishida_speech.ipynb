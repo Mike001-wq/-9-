{
 "cells": [
  {
   "cell_type": "code",
   "execution_count": 1,
   "id": "90ced122",
   "metadata": {},
   "outputs": [],
   "source": [
    "import requests\n",
    "from bs4 import BeautifulSoup\n",
    "import pickle"
   ]
  },
  {
   "cell_type": "code",
   "execution_count": 2,
   "id": "a62f8878",
   "metadata": {},
   "outputs": [],
   "source": [
    "months = ['202111', '202112', '202201', '202201', '202202', '202203', '202204', '202205']\n",
    "# \"https://www.soumu.go.jp/menu_news/kaiken/{month}.html\""
   ]
  },
  {
   "cell_type": "code",
   "execution_count": 3,
   "id": "20bcbe9c",
   "metadata": {},
   "outputs": [
    {
     "name": "stdout",
     "output_type": "stream",
     "text": [
      "https://www.kantei.go.jp/cn/101_kishida/statement/202111/_00003.html\n",
      "https://www.kantei.go.jp/cn/101_kishida/statement/202111/_00002.html\n",
      "https://www.kantei.go.jp/cn/101_kishida/statement/202111/_00001.html\n",
      "https://www.kantei.go.jp/cn/101_kishida/statement/202112/_00004.html\n",
      "https://www.kantei.go.jp/cn/101_kishida/statement/202112/_00005.html\n",
      "https://www.kantei.go.jp/cn/101_kishida/statement/202112/_00003.html\n",
      "https://www.kantei.go.jp/cn/101_kishida/statement/202112/_00002.html\n",
      "https://www.kantei.go.jp/cn/101_kishida/statement/202112/_00001.html\n",
      "https://www.kantei.go.jp/cn/101_kishida/statement/202201/_00008.html\n",
      "https://www.kantei.go.jp/cn/101_kishida/statement/202201/_00007.html\n",
      "https://www.kantei.go.jp/cn/101_kishida/statement/202201/_00004.html\n",
      "https://www.kantei.go.jp/cn/101_kishida/statement/202201/_00003.html\n",
      "https://www.kantei.go.jp/cn/101_kishida/statement/202201/_00002.html\n",
      "https://www.kantei.go.jp/cn/101_kishida/statement/202201/_00001.html\n",
      "https://www.kantei.go.jp/cn/101_kishida/statement/202201/_00008.html\n",
      "https://www.kantei.go.jp/cn/101_kishida/statement/202201/_00007.html\n",
      "https://www.kantei.go.jp/cn/101_kishida/statement/202201/_00004.html\n",
      "https://www.kantei.go.jp/cn/101_kishida/statement/202201/_00003.html\n",
      "https://www.kantei.go.jp/cn/101_kishida/statement/202201/_00002.html\n",
      "https://www.kantei.go.jp/cn/101_kishida/statement/202201/_00001.html\n",
      "https://www.kantei.go.jp/cn/101_kishida/statement/202202/_00005.html\n",
      "https://www.kantei.go.jp/cn/101_kishida/statement/202202/_00004.html\n",
      "https://www.kantei.go.jp/cn/101_kishida/statement/202202/_00003.html\n",
      "https://www.kantei.go.jp/cn/101_kishida/statement/202202/_00002.html\n",
      "https://www.kantei.go.jp/cn/101_kishida/statement/202202/_00001.html\n",
      "https://www.kantei.go.jp/cn/101_kishida/statement/202203/_00011.html\n",
      "https://www.kantei.go.jp/cn/101_kishida/statement/202203/_00010.html\n",
      "https://www.kantei.go.jp/cn/101_kishida/statement/202203/_00009.html\n",
      "https://www.kantei.go.jp/cn/101_kishida/statement/202203/_00012.html\n",
      "https://www.kantei.go.jp/cn/101_kishida/statement/202203/_00008.html\n",
      "https://www.kantei.go.jp/cn/101_kishida/statement/202203/_00006.html\n",
      "https://www.kantei.go.jp/cn/101_kishida/statement/202203/_00004.html\n",
      "https://www.kantei.go.jp/cn/101_kishida/statement/202203/_00005.html\n",
      "https://www.kantei.go.jp/cn/101_kishida/statement/202203/_00003.html\n",
      "https://www.kantei.go.jp/cn/101_kishida/statement/202203/_00002.html\n",
      "https://www.kantei.go.jp/cn/101_kishida/statement/202203/_00001.html\n",
      "https://www.kantei.go.jp/cn/101_kishida/statement/202204/_00006.html\n",
      "https://www.kantei.go.jp/cn/101_kishida/statement/202204/_00005.html\n",
      "https://www.kantei.go.jp/cn/101_kishida/statement/202204/_00002.html\n",
      "https://www.kantei.go.jp/cn/101_kishida/statement/202204/_00001.html\n",
      "https://www.kantei.go.jp/cn/101_kishida/statement/202205/_00012.html\n",
      "https://www.kantei.go.jp/cn/101_kishida/statement/202205/_00011.html\n",
      "https://www.kantei.go.jp/cn/101_kishida/statement/202205/_00007.html\n",
      "https://www.kantei.go.jp/cn/101_kishida/statement/202205/_00006.html\n",
      "https://www.kantei.go.jp/cn/101_kishida/statement/202205/_00004.html\n",
      "https://www.kantei.go.jp/cn/101_kishida/statement/202205/_00002.html\n",
      "https://www.kantei.go.jp/cn/101_kishida/statement/202205/_00001.html\n"
     ]
    }
   ],
   "source": [
    "speeches = []\n",
    "for month in months:\n",
    "    url = f\"https://www.kantei.go.jp/cn/101_kishida/statement/{month}/index.html\"\n",
    "    response = requests.get(url)\n",
    "    response.encoding = \"utf-8\"\n",
    "    soup = BeautifulSoup(response.text, \"html.parser\")\n",
    "    # print(soup.prettify())\n",
    "    # print(soup.find(class_=\"icolistA\"))\n",
    "    speech_page_list = soup.find(class_=\"icolistA\").find_all('li')\n",
    "    for speech_page in speech_page_list:\n",
    "        title = speech_page.get_text().replace(' ', '').replace('\\r\\n', '').replace('\\n', '')\n",
    "        url = \"https://www.kantei.go.jp\" + speech_page.find(href=True)['href']\n",
    "        response = requests.get(url)\n",
    "        print(url)\n",
    "        response.encoding = \"utf-8\"\n",
    "        soup = BeautifulSoup(response.text, \"html.parser\")\n",
    "        # print(soup.prettify())\n",
    "        content = soup.find(id=\"format\")\n",
    "        aly_tx_right = content.find(class_=\"aly_tx_right\")\n",
    "        if aly_tx_right:\n",
    "            aly_tx_right.clear()\n",
    "        content = content.get_text().replace('\\r\\n', '').replace('\\t', '').strip('\\n')\n",
    "        speech = {\n",
    "            \"source\": url,\n",
    "            \"title\": title,\n",
    "            \"chinese_content\": content,\n",
    "            \"japanese_content\": None,\n",
    "        }\n",
    "        speeches.append(speech)\n",
    "# print(speeches)"
   ]
  },
  {
   "cell_type": "code",
   "execution_count": 5,
   "id": "29605782",
   "metadata": {},
   "outputs": [],
   "source": [
    "kishida_speech_pk_path = f\"kishida_speech.pk\"\n",
    "kishida_speech_pk = open(kishida_speech_pk_path, 'wb')\n",
    "pickle.dump(speeches, kishida_speech_pk)\n",
    "kishida_speech_pk.close()"
   ]
  }
 ],
 "metadata": {
  "kernelspec": {
   "display_name": "Python 3",
   "language": "python",
   "name": "python3"
  },
  "language_info": {
   "codemirror_mode": {
    "name": "ipython",
    "version": 3
   },
   "file_extension": ".py",
   "mimetype": "text/x-python",
   "name": "python",
   "nbconvert_exporter": "python",
   "pygments_lexer": "ipython3",
   "version": "3.7.0"
  }
 },
 "nbformat": 4,
 "nbformat_minor": 5
}
